{
  "cells": [
    {
      "cell_type": "code",
      "execution_count": null,
      "id": "550ea638",
      "metadata": {
        "id": "550ea638"
      },
      "outputs": [],
      "source": [
        "from tensorflow.keras.preprocessing.image import ImageDataGenerator\n"
      ]
    },
    {
      "cell_type": "code",
      "execution_count": null,
      "id": "7647070d",
      "metadata": {
        "id": "7647070d"
      },
      "outputs": [],
      "source": [
        "train_datagen=ImageDataGenerator(rescale=1./255,zoom_range=0.2,horizontal_flip=True,vertical_flip=False)\n"
      ]
    },
    {
      "cell_type": "code",
      "execution_count": null,
      "id": "84040afc",
      "metadata": {
        "id": "84040afc"
      },
      "outputs": [],
      "source": [
        "test_datagen=ImageDataGenerator(rescale=1./255)\n"
      ]
    },
    {
      "cell_type": "code",
      "execution_count": null,
      "id": "4d2f5698",
      "metadata": {
        "id": "4d2f5698",
        "outputId": "862aa776-4a62-4ceb-e3f8-d2cc6801f7bd"
      },
      "outputs": [
        {
          "name": "stdout",
          "output_type": "stream",
          "text": [
            "Found 11385 images belonging to 9 classes.\n"
          ]
        }
      ],
      "source": [
        "x_train=train_datagen.flow_from_directory(r\"C:\\Users\\Vakati Harshitha\\Desktop\\FILES\\data_for_ibm\\Fertilizers_Recommendation_ System_For_Disease_ Prediction\\Dataset Plant Disease\\Veg-dataset\\Veg-dataset\\train_set\",target_size=(128,128),\n",
        "                                        class_mode='categorical',batch_size=24)"
      ]
    },
    {
      "cell_type": "code",
      "execution_count": null,
      "id": "86bda83a",
      "metadata": {
        "id": "86bda83a",
        "outputId": "607e6ab3-9d51-4bb4-8e1e-9ae3c86ad6bc"
      },
      "outputs": [
        {
          "name": "stdout",
          "output_type": "stream",
          "text": [
            "Found 3416 images belonging to 9 classes.\n"
          ]
        }
      ],
      "source": [
        "x_test=test_datagen.flow_from_directory(r'C:\\Users\\Vakati Harshitha\\Desktop\\FILES\\data_for_ibm\\Fertilizers_Recommendation_ System_For_Disease_ Prediction\\Dataset Plant Disease\\Veg-dataset\\Veg-dataset\\test_set',target_size=(128,128),\n",
        "                                        class_mode='categorical',batch_size=24)"
      ]
    },
    {
      "cell_type": "code",
      "execution_count": null,
      "id": "d3ce38cf",
      "metadata": {
        "id": "d3ce38cf"
      },
      "outputs": [],
      "source": [
        "from tensorflow.keras.models import Sequential\n",
        "from tensorflow.keras.layers import Dense,Convolution2D,MaxPooling2D,Flatten"
      ]
    },
    {
      "cell_type": "code",
      "execution_count": null,
      "id": "476b022b",
      "metadata": {
        "id": "476b022b"
      },
      "outputs": [],
      "source": [
        "model=Sequential()\n"
      ]
    },
    {
      "cell_type": "code",
      "execution_count": null,
      "id": "39c7c3a0",
      "metadata": {
        "id": "39c7c3a0"
      },
      "outputs": [],
      "source": [
        "model.add(Convolution2D(32,(3,3),input_shape=(128,128,3),activation='relu'))\n"
      ]
    },
    {
      "cell_type": "code",
      "execution_count": null,
      "id": "b68fd9e8",
      "metadata": {
        "id": "b68fd9e8"
      },
      "outputs": [],
      "source": [
        "model.add(MaxPooling2D(pool_size=(2,2)))\n"
      ]
    },
    {
      "cell_type": "code",
      "execution_count": null,
      "id": "0952e57e",
      "metadata": {
        "id": "0952e57e"
      },
      "outputs": [],
      "source": [
        "model.add(Flatten())\n"
      ]
    },
    {
      "cell_type": "code",
      "execution_count": null,
      "id": "d835f8b7",
      "metadata": {
        "id": "d835f8b7"
      },
      "outputs": [],
      "source": [
        "model.summary()\n"
      ]
    },
    {
      "cell_type": "code",
      "execution_count": null,
      "id": "63b2845c",
      "metadata": {
        "id": "63b2845c"
      },
      "outputs": [],
      "source": [
        "model.add(Dense(300,activation='relu'))\n",
        "model.add(Dense(150,activation='relu'))"
      ]
    },
    {
      "cell_type": "code",
      "execution_count": null,
      "id": "776d9868",
      "metadata": {
        "id": "776d9868"
      },
      "outputs": [],
      "source": [
        "model.add(Dense(9,activation='softmax'))"
      ]
    },
    {
      "cell_type": "code",
      "execution_count": null,
      "id": "dbe218fb",
      "metadata": {
        "id": "dbe218fb"
      },
      "outputs": [],
      "source": [
        "model.compile(loss='categorical_crossentropy',optimizer='adam',metrics=['accuracy'])\n"
      ]
    },
    {
      "cell_type": "code",
      "execution_count": null,
      "id": "02a24289",
      "metadata": {
        "id": "02a24289",
        "outputId": "f823d0fe-603b-4a1a-c868-de7b49b50b9b"
      },
      "outputs": [
        {
          "data": {
            "text/plain": [
              "475"
            ]
          },
          "execution_count": 22,
          "metadata": {},
          "output_type": "execute_result"
        }
      ],
      "source": [
        "len(x_train)\n"
      ]
    },
    {
      "cell_type": "code",
      "execution_count": null,
      "id": "e3ef09cb",
      "metadata": {
        "id": "e3ef09cb",
        "outputId": "a0f84ec4-ef0e-430e-e048-071c01f9be6e"
      },
      "outputs": [
        {
          "data": {
            "text/plain": [
              "51.583333333333336"
            ]
          },
          "execution_count": 23,
          "metadata": {},
          "output_type": "execute_result"
        }
      ],
      "source": [
        "1238/24\n"
      ]
    },
    {
      "cell_type": "code",
      "execution_count": null,
      "id": "dbb5e61e",
      "metadata": {
        "id": "dbb5e61e"
      },
      "outputs": [],
      "source": [
        "model.fit(x_train,steps_per_epoch=len(x_train),validation_data=x_test,validation_steps=len(x_test),epochs=10)\n"
      ]
    },
    {
      "cell_type": "code",
      "execution_count": null,
      "id": "30ce37c9",
      "metadata": {
        "id": "30ce37c9"
      },
      "outputs": [],
      "source": [
        "model.save('vegetabledata.h5')"
      ]
    },
    {
      "cell_type": "code",
      "execution_count": null,
      "id": "ac631bbd",
      "metadata": {
        "id": "ac631bbd"
      },
      "outputs": [],
      "source": [
        "import numpy as np\n",
        "from tensorflow.keras.models import load_model\n",
        "from tensorflow.keras.preprocessing import image"
      ]
    },
    {
      "cell_type": "code",
      "execution_count": null,
      "id": "047526e9",
      "metadata": {
        "id": "047526e9"
      },
      "outputs": [],
      "source": [
        "model=load_model('vegetabledata.h5')"
      ]
    },
    {
      "cell_type": "code",
      "execution_count": null,
      "id": "5216e7cc",
      "metadata": {
        "id": "5216e7cc"
      },
      "outputs": [],
      "source": [
        "img=image.load_img(r\"C:\\Users\\Vakati Harshitha\\Desktop\\FILES\\data_for_ibm\\Fertilizers_Recommendation_ System_For_Disease_ Prediction\\Dataset Plant Disease\\Veg-dataset\\Veg-dataset\\test_set\\Potato___Early_blight/b817817e-a6b1-4123-88e7-db98b453ce17___RS_Early.B 6880.jpg\")"
      ]
    },
    {
      "cell_type": "code",
      "execution_count": null,
      "id": "53334eec",
      "metadata": {
        "id": "53334eec"
      },
      "outputs": [],
      "source": [
        "img"
      ]
    },
    {
      "cell_type": "code",
      "execution_count": null,
      "id": "b0e92664",
      "metadata": {
        "id": "b0e92664"
      },
      "outputs": [],
      "source": [
        "x=image.img_to_array(img)\n"
      ]
    },
    {
      "cell_type": "code",
      "execution_count": null,
      "id": "f121d8b4",
      "metadata": {
        "id": "f121d8b4"
      },
      "outputs": [],
      "source": [
        "img=image.load_img(r\"C:\\Users\\Vakati Harshitha\\Desktop\\FILES\\data_for_ibm\\Fertilizers_Recommendation_ System_For_Disease_ Prediction\\Dataset Plant Disease\\Veg-dataset\\Veg-dataset\\test_set\\Potato___Early_blight/b817817e-a6b1-4123-88e7-db98b453ce17___RS_Early.B 6880.jpg\",target_size=(128,128))\n",
        "img"
      ]
    },
    {
      "cell_type": "code",
      "execution_count": null,
      "id": "68b5337a",
      "metadata": {
        "id": "68b5337a"
      },
      "outputs": [],
      "source": [
        "\n",
        "x=image.img_to_array(img)\n"
      ]
    },
    {
      "cell_type": "code",
      "execution_count": null,
      "id": "4b92df3b",
      "metadata": {
        "id": "4b92df3b",
        "outputId": "ef8ffd43-c117-467c-d1c1-6997961b4b5d"
      },
      "outputs": [
        {
          "data": {
            "text/plain": [
              "array([[[135., 131., 145.],\n",
              "        [134., 130., 144.],\n",
              "        [133., 129., 143.],\n",
              "        ...,\n",
              "        [166., 164., 178.],\n",
              "        [188., 186., 200.],\n",
              "        [213., 211., 225.]],\n",
              "\n",
              "       [[141., 137., 151.],\n",
              "        [139., 135., 149.],\n",
              "        [128., 124., 138.],\n",
              "        ...,\n",
              "        [201., 199., 213.],\n",
              "        [157., 155., 169.],\n",
              "        [172., 170., 184.]],\n",
              "\n",
              "       [[136., 132., 146.],\n",
              "        [135., 131., 145.],\n",
              "        [141., 137., 151.],\n",
              "        ...,\n",
              "        [166., 164., 178.],\n",
              "        [169., 167., 181.],\n",
              "        [166., 164., 178.]],\n",
              "\n",
              "       ...,\n",
              "\n",
              "       [[163., 161., 175.],\n",
              "        [154., 152., 166.],\n",
              "        [160., 158., 172.],\n",
              "        ...,\n",
              "        [203., 201., 214.],\n",
              "        [221., 219., 232.],\n",
              "        [207., 205., 218.]],\n",
              "\n",
              "       [[148., 146., 160.],\n",
              "        [165., 163., 177.],\n",
              "        [152., 150., 164.],\n",
              "        ...,\n",
              "        [176., 174., 187.],\n",
              "        [192., 190., 203.],\n",
              "        [189., 187., 200.]],\n",
              "\n",
              "       [[162., 160., 174.],\n",
              "        [155., 153., 167.],\n",
              "        [141., 139., 153.],\n",
              "        ...,\n",
              "        [180., 178., 191.],\n",
              "        [190., 188., 201.],\n",
              "        [191., 189., 202.]]], dtype=float32)"
            ]
          },
          "execution_count": 46,
          "metadata": {},
          "output_type": "execute_result"
        }
      ],
      "source": [
        "x"
      ]
    },
    {
      "cell_type": "code",
      "execution_count": null,
      "id": "cadc1aff",
      "metadata": {
        "id": "cadc1aff"
      },
      "outputs": [],
      "source": [
        "x=np.expand_dims(x,axis=0)\n"
      ]
    },
    {
      "cell_type": "code",
      "execution_count": null,
      "id": "70dacb16",
      "metadata": {
        "id": "70dacb16",
        "outputId": "7c629ccf-33a1-49ac-d570-3e192119d9d6"
      },
      "outputs": [
        {
          "data": {
            "text/plain": [
              "array([[[[135., 131., 145.],\n",
              "         [134., 130., 144.],\n",
              "         [133., 129., 143.],\n",
              "         ...,\n",
              "         [166., 164., 178.],\n",
              "         [188., 186., 200.],\n",
              "         [213., 211., 225.]],\n",
              "\n",
              "        [[141., 137., 151.],\n",
              "         [139., 135., 149.],\n",
              "         [128., 124., 138.],\n",
              "         ...,\n",
              "         [201., 199., 213.],\n",
              "         [157., 155., 169.],\n",
              "         [172., 170., 184.]],\n",
              "\n",
              "        [[136., 132., 146.],\n",
              "         [135., 131., 145.],\n",
              "         [141., 137., 151.],\n",
              "         ...,\n",
              "         [166., 164., 178.],\n",
              "         [169., 167., 181.],\n",
              "         [166., 164., 178.]],\n",
              "\n",
              "        ...,\n",
              "\n",
              "        [[163., 161., 175.],\n",
              "         [154., 152., 166.],\n",
              "         [160., 158., 172.],\n",
              "         ...,\n",
              "         [203., 201., 214.],\n",
              "         [221., 219., 232.],\n",
              "         [207., 205., 218.]],\n",
              "\n",
              "        [[148., 146., 160.],\n",
              "         [165., 163., 177.],\n",
              "         [152., 150., 164.],\n",
              "         ...,\n",
              "         [176., 174., 187.],\n",
              "         [192., 190., 203.],\n",
              "         [189., 187., 200.]],\n",
              "\n",
              "        [[162., 160., 174.],\n",
              "         [155., 153., 167.],\n",
              "         [141., 139., 153.],\n",
              "         ...,\n",
              "         [180., 178., 191.],\n",
              "         [190., 188., 201.],\n",
              "         [191., 189., 202.]]]], dtype=float32)"
            ]
          },
          "execution_count": 48,
          "metadata": {},
          "output_type": "execute_result"
        }
      ],
      "source": [
        "x"
      ]
    },
    {
      "cell_type": "code",
      "execution_count": null,
      "id": "3b32d08b",
      "metadata": {
        "id": "3b32d08b",
        "outputId": "00027300-8ba2-4c99-ea5e-114cc490d0ab"
      },
      "outputs": [
        {
          "name": "stdout",
          "output_type": "stream",
          "text": [
            "1/1 [==============================] - 0s 89ms/step\n"
          ]
        }
      ],
      "source": [
        "y=np.argmax(model.predict(x),axis=1)\n"
      ]
    },
    {
      "cell_type": "code",
      "execution_count": null,
      "id": "76894b4d",
      "metadata": {
        "id": "76894b4d",
        "outputId": "8343218f-9822-4dc5-8e06-42e11c8a51f8"
      },
      "outputs": [
        {
          "data": {
            "text/plain": [
              "{'Pepper,_bell___Bacterial_spot': 0,\n",
              " 'Pepper,_bell___healthy': 1,\n",
              " 'Potato___Early_blight': 2,\n",
              " 'Potato___Late_blight': 3,\n",
              " 'Potato___healthy': 4,\n",
              " 'Tomato___Bacterial_spot': 5,\n",
              " 'Tomato___Late_blight': 6,\n",
              " 'Tomato___Leaf_Mold': 7,\n",
              " 'Tomato___Septoria_leaf_spot': 8}"
            ]
          },
          "execution_count": 50,
          "metadata": {},
          "output_type": "execute_result"
        }
      ],
      "source": [
        "x_train.class_indices\n"
      ]
    },
    {
      "cell_type": "code",
      "execution_count": null,
      "id": "6ab3d7f1",
      "metadata": {
        "id": "6ab3d7f1"
      },
      "outputs": [],
      "source": [
        "index=['Pepper,_bell___Bacterial_spot','Pepper,_bell___healthy','Potato___Early_blight','Potato___Late_blight','Potato___healthy','Tomato___Bacterial_spot','Tomato___Late_blight','Tomato___Leaf_Mold','Tomato___Septoria_leaf_spot']\n"
      ]
    },
    {
      "cell_type": "code",
      "execution_count": null,
      "id": "edc88312",
      "metadata": {
        "id": "edc88312",
        "outputId": "e4e503e2-89c0-4bb5-e491-ad32f2a1dafd"
      },
      "outputs": [
        {
          "data": {
            "text/plain": [
              "'Tomato___Bacterial_spot'"
            ]
          },
          "execution_count": 52,
          "metadata": {},
          "output_type": "execute_result"
        }
      ],
      "source": [
        "index[y[0]]\n"
      ]
    },
    {
      "cell_type": "code",
      "execution_count": null,
      "id": "1bdf583b",
      "metadata": {
        "id": "1bdf583b"
      },
      "outputs": [],
      "source": [
        "img=image.load_img(r\"C:\\Users\\Vakati Harshitha\\Desktop\\FILES\\data_for_ibm\\Fertilizers_Recommendation_ System_For_Disease_ Prediction\\Dataset Plant Disease\\Veg-dataset\\Veg-dataset\\test_set\\Potato___Early_blight/b817817e-a6b1-4123-88e7-db98b453ce17___RS_Early.B 6880.jpg\",target_size=(128,128))\n",
        "x=image.img_to_array(img)\n",
        "x=np.expand_dims(x,axis=0)\n",
        "y=np.argmax(model.predict(x),axis=1)\n",
        "index=['Pepper,_bell___Bacterial_spot','Pepper,_bell___healthy','Potato___Early_blight','Potato___Late_blight','Potato___healthy','Tomato___Bacterial_spot','Tomato___Leaf_Mold','Tomato___Septoria_leaf_spot']\n",
        "index[y[0]]"
      ]
    },
    {
      "cell_type": "code",
      "execution_count": null,
      "id": "b2d31a38",
      "metadata": {
        "id": "b2d31a38"
      },
      "outputs": [],
      "source": []
    }
  ],
  "metadata": {
    "kernelspec": {
      "display_name": "Python 3 (ipykernel)",
      "language": "python",
      "name": "python3"
    },
    "language_info": {
      "codemirror_mode": {
        "name": "ipython",
        "version": 3
      },
      "file_extension": ".py",
      "mimetype": "text/x-python",
      "name": "python",
      "nbconvert_exporter": "python",
      "pygments_lexer": "ipython3",
      "version": "3.10.8"
    },
    "colab": {
      "provenance": []
    }
  },
  "nbformat": 4,
  "nbformat_minor": 5
}